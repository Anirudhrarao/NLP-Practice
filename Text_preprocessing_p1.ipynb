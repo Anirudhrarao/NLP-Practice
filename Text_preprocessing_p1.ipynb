{
  "nbformat": 4,
  "nbformat_minor": 0,
  "metadata": {
    "colab": {
      "provenance": []
    },
    "kernelspec": {
      "name": "python3",
      "display_name": "Python 3"
    },
    "language_info": {
      "name": "python"
    }
  },
  "cells": [
    {
      "cell_type": "code",
      "execution_count": null,
      "metadata": {
        "colab": {
          "base_uri": "https://localhost:8080/"
        },
        "id": "-Pj7dzAqmAxD",
        "outputId": "a9210e13-7e90-4171-d644-cc104327afe1"
      },
      "outputs": [
        {
          "output_type": "stream",
          "name": "stdout",
          "text": [
            "Requirement already satisfied: nltk in /usr/local/lib/python3.10/dist-packages (3.8.1)\n",
            "Requirement already satisfied: click in /usr/local/lib/python3.10/dist-packages (from nltk) (8.1.7)\n",
            "Requirement already satisfied: joblib in /usr/local/lib/python3.10/dist-packages (from nltk) (1.3.2)\n",
            "Requirement already satisfied: regex>=2021.8.3 in /usr/local/lib/python3.10/dist-packages (from nltk) (2023.6.3)\n",
            "Requirement already satisfied: tqdm in /usr/local/lib/python3.10/dist-packages (from nltk) (4.66.1)\n"
          ]
        }
      ],
      "source": [
        "%pip install nltk"
      ]
    },
    {
      "cell_type": "code",
      "source": [
        "text = \"\"\"\n",
        "  Narendra Damodardas Modi (Gujarati: [ˈnəɾendɾə dɑmodəɾˈdɑs ˈmodiː] i; born 17 September 1950)[b] is an Indian politician who has served as the 14th prime minister of India since May 2014. Modi was the Chief Minister of Gujarat from 2001 to 2014 and is the Member of Parliament (MP) for Varanasi. He is a member of the Bharatiya Janata Party (BJP) and of the Rashtriya Swayamsevak Sangh (RSS), a right-wing Hindu nationalist paramilitary volunteer organisation. He is the longest-serving prime minister from outside the Indian National Congress.\n",
        "\n",
        "  Modi was born and raised in Vadnagar in northeastern Gujarat, where he completed his secondary education. He was introduced to the RSS at the age of eight. His account of helping his father sell tea at the Vadnagar railway station has not been reliably corroborated. At age 18, he was married to Jashodaben Modi, whom he abandoned soon after, only publicly acknowledging her four decades later when legally required to do so. Modi became a full-time worker for the RSS in Gujarat in 1971. The RSS assigned him to the BJP in 1985 and he held several positions within the party hierarchy until 2001, rising to the rank of general secretary.[c]\n",
        "\"\"\""
      ],
      "metadata": {
        "id": "qTeT-0_kmHX0"
      },
      "execution_count": null,
      "outputs": []
    },
    {
      "cell_type": "code",
      "source": [
        "text"
      ],
      "metadata": {
        "colab": {
          "base_uri": "https://localhost:8080/",
          "height": 179
        },
        "id": "pcGnVGsgmunJ",
        "outputId": "99947c21-3711-4fd5-dd78-dfa87f1e356f"
      },
      "execution_count": null,
      "outputs": [
        {
          "output_type": "execute_result",
          "data": {
            "text/plain": [
              "'\\n  Narendra Damodardas Modi (Gujarati: [ˈnəɾendɾə dɑmodəɾˈdɑs ˈmodiː] i; born 17 September 1950)[b] is an Indian politician who has served as the 14th prime minister of India since May 2014. Modi was the Chief Minister of Gujarat from 2001 to 2014 and is the Member of Parliament (MP) for Varanasi. He is a member of the Bharatiya Janata Party (BJP) and of the Rashtriya Swayamsevak Sangh (RSS), a right-wing Hindu nationalist paramilitary volunteer organisation. He is the longest-serving prime minister from outside the Indian National Congress.\\n\\n  Modi was born and raised in Vadnagar in northeastern Gujarat, where he completed his secondary education. He was introduced to the RSS at the age of eight. His account of helping his father sell tea at the Vadnagar railway station has not been reliably corroborated. At age 18, he was married to Jashodaben Modi, whom he abandoned soon after, only publicly acknowledging her four decades later when legally required to do so. Modi became a full-time worker for the RSS in Gujarat in 1971. The RSS assigned him to the BJP in 1985 and he held several positions within the party hierarchy until 2001, rising to the rank of general secretary.[c]\\n'"
            ],
            "application/vnd.google.colaboratory.intrinsic+json": {
              "type": "string"
            }
          },
          "metadata": {},
          "execution_count": 3
        }
      ]
    },
    {
      "cell_type": "code",
      "source": [
        "import nltk\n",
        "from nltk.stem import PorterStemmer\n",
        "from nltk.corpus import stopwords\n",
        "nltk.download('punkt')\n",
        "nltk.download('wordnet')\n",
        "nltk.download('stopwords')"
      ],
      "metadata": {
        "colab": {
          "base_uri": "https://localhost:8080/"
        },
        "id": "euTE8lS3mwwo",
        "outputId": "ea00c823-3fd2-4896-c6e7-78afb54914ba"
      },
      "execution_count": null,
      "outputs": [
        {
          "output_type": "stream",
          "name": "stderr",
          "text": [
            "[nltk_data] Downloading package punkt to /root/nltk_data...\n",
            "[nltk_data]   Unzipping tokenizers/punkt.zip.\n",
            "[nltk_data] Downloading package wordnet to /root/nltk_data...\n",
            "[nltk_data] Downloading package stopwords to /root/nltk_data...\n",
            "[nltk_data]   Unzipping corpora/stopwords.zip.\n"
          ]
        },
        {
          "output_type": "execute_result",
          "data": {
            "text/plain": [
              "True"
            ]
          },
          "metadata": {},
          "execution_count": 4
        }
      ]
    },
    {
      "cell_type": "code",
      "source": [
        "# Tokenization -> (Converting corpus into sentences and sentences into words)\n",
        "sentences = nltk.sent_tokenize(text)"
      ],
      "metadata": {
        "id": "7brvOseBnIk_"
      },
      "execution_count": null,
      "outputs": []
    },
    {
      "cell_type": "code",
      "source": [
        "sentences"
      ],
      "metadata": {
        "colab": {
          "base_uri": "https://localhost:8080/"
        },
        "id": "XjxbK3canr1n",
        "outputId": "18ae5132-bd2e-4e56-c2c5-25ff4581ff07"
      },
      "execution_count": null,
      "outputs": [
        {
          "output_type": "execute_result",
          "data": {
            "text/plain": [
              "['\\n  Narendra Damodardas Modi (Gujarati: [ˈnəɾendɾə dɑmodəɾˈdɑs ˈmodiː] i; born 17 September 1950)[b] is an Indian politician who has served as the 14th prime minister of India since May 2014.',\n",
              " 'Modi was the Chief Minister of Gujarat from 2001 to 2014 and is the Member of Parliament (MP) for Varanasi.',\n",
              " 'He is a member of the Bharatiya Janata Party (BJP) and of the Rashtriya Swayamsevak Sangh (RSS), a right-wing Hindu nationalist paramilitary volunteer organisation.',\n",
              " 'He is the longest-serving prime minister from outside the Indian National Congress.',\n",
              " 'Modi was born and raised in Vadnagar in northeastern Gujarat, where he completed his secondary education.',\n",
              " 'He was introduced to the RSS at the age of eight.',\n",
              " 'His account of helping his father sell tea at the Vadnagar railway station has not been reliably corroborated.',\n",
              " 'At age 18, he was married to Jashodaben Modi, whom he abandoned soon after, only publicly acknowledging her four decades later when legally required to do so.',\n",
              " 'Modi became a full-time worker for the RSS in Gujarat in 1971.',\n",
              " 'The RSS assigned him to the BJP in 1985 and he held several positions within the party hierarchy until 2001, rising to the rank of general secretary.',\n",
              " '[c]']"
            ]
          },
          "metadata": {},
          "execution_count": 6
        }
      ]
    },
    {
      "cell_type": "code",
      "source": [
        "# create instance of Porterstemmer\n",
        "stemmer = PorterStemmer()"
      ],
      "metadata": {
        "id": "RZ-JxbUloDLx"
      },
      "execution_count": null,
      "outputs": []
    },
    {
      "cell_type": "code",
      "source": [
        "stemmer.stem('Ravishing')"
      ],
      "metadata": {
        "colab": {
          "base_uri": "https://localhost:8080/",
          "height": 36
        },
        "id": "cp8XIdLhqehq",
        "outputId": "a5423a6a-8fa6-483c-b1a9-839824261765"
      },
      "execution_count": null,
      "outputs": [
        {
          "output_type": "execute_result",
          "data": {
            "text/plain": [
              "'ravish'"
            ],
            "application/vnd.google.colaboratory.intrinsic+json": {
              "type": "string"
            }
          },
          "metadata": {},
          "execution_count": 8
        }
      ]
    },
    {
      "cell_type": "code",
      "source": [
        "# lemmatization\n",
        "from nltk.stem import WordNetLemmatizer"
      ],
      "metadata": {
        "id": "FPbeNe2iqiH-"
      },
      "execution_count": null,
      "outputs": []
    },
    {
      "cell_type": "code",
      "source": [
        "# create instance of lemmatization\n",
        "lemmatizer = WordNetLemmatizer()"
      ],
      "metadata": {
        "id": "XwhwxEVsrZKY"
      },
      "execution_count": null,
      "outputs": []
    },
    {
      "cell_type": "code",
      "source": [
        "lemmatizer.lemmatize('History')"
      ],
      "metadata": {
        "colab": {
          "base_uri": "https://localhost:8080/",
          "height": 36
        },
        "id": "J11TIYCxrkcF",
        "outputId": "57bc5beb-b445-43d9-aa08-e520fe90f6d8"
      },
      "execution_count": null,
      "outputs": [
        {
          "output_type": "execute_result",
          "data": {
            "text/plain": [
              "'History'"
            ],
            "application/vnd.google.colaboratory.intrinsic+json": {
              "type": "string"
            }
          },
          "metadata": {},
          "execution_count": 11
        }
      ]
    },
    {
      "cell_type": "code",
      "source": [
        "# removing special char which is not start with any small or capital alphabet\n",
        "import re\n",
        "corpus = []\n",
        "for i in range(len(sentences)):\n",
        "  review = re.sub('[^a-zA-Z]',' ',sentences[i])\n",
        "  review = review.lower()\n",
        "  corpus.append(review)"
      ],
      "metadata": {
        "id": "eejPmLqVsIKk"
      },
      "execution_count": null,
      "outputs": []
    },
    {
      "cell_type": "code",
      "source": [
        "corpus"
      ],
      "metadata": {
        "colab": {
          "base_uri": "https://localhost:8080/"
        },
        "id": "J8GLkZrvtsVu",
        "outputId": "040cf8cd-7914-426e-a8d0-528d3a1bb4f7"
      },
      "execution_count": null,
      "outputs": [
        {
          "output_type": "execute_result",
          "data": {
            "text/plain": [
              "['   narendra damodardas modi  gujarati    n  end   d mod   d s  modi   i  born    september       b  is an indian politician who has served as the   th prime minister of india since may      ',\n",
              " 'modi was the chief minister of gujarat from      to      and is the member of parliament  mp  for varanasi ',\n",
              " 'he is a member of the bharatiya janata party  bjp  and of the rashtriya swayamsevak sangh  rss   a right wing hindu nationalist paramilitary volunteer organisation ',\n",
              " 'he is the longest serving prime minister from outside the indian national congress ',\n",
              " 'modi was born and raised in vadnagar in northeastern gujarat  where he completed his secondary education ',\n",
              " 'he was introduced to the rss at the age of eight ',\n",
              " 'his account of helping his father sell tea at the vadnagar railway station has not been reliably corroborated ',\n",
              " 'at age     he was married to jashodaben modi  whom he abandoned soon after  only publicly acknowledging her four decades later when legally required to do so ',\n",
              " 'modi became a full time worker for the rss in gujarat in      ',\n",
              " 'the rss assigned him to the bjp in      and he held several positions within the party hierarchy until       rising to the rank of general secretary ',\n",
              " ' c ']"
            ]
          },
          "metadata": {},
          "execution_count": 13
        }
      ]
    },
    {
      "cell_type": "code",
      "source": [
        "# applying stemming on corpus\n",
        "for sentence in corpus:\n",
        "  words = nltk.word_tokenize(sentence)\n",
        "  for word in words:\n",
        "    if word not in set(stopwords.words('english')):\n",
        "      print(stemmer.stem(word))"
      ],
      "metadata": {
        "colab": {
          "base_uri": "https://localhost:8080/"
        },
        "id": "fwaltIrst7Oc",
        "outputId": "fb287714-d876-4268-8826-2a9d8da7694f"
      },
      "execution_count": null,
      "outputs": [
        {
          "output_type": "stream",
          "name": "stdout",
          "text": [
            "narendra\n",
            "damodarda\n",
            "modi\n",
            "gujarati\n",
            "n\n",
            "end\n",
            "mod\n",
            "modi\n",
            "born\n",
            "septemb\n",
            "b\n",
            "indian\n",
            "politician\n",
            "serv\n",
            "th\n",
            "prime\n",
            "minist\n",
            "india\n",
            "sinc\n",
            "may\n",
            "modi\n",
            "chief\n",
            "minist\n",
            "gujarat\n",
            "member\n",
            "parliament\n",
            "mp\n",
            "varanasi\n",
            "member\n",
            "bharatiya\n",
            "janata\n",
            "parti\n",
            "bjp\n",
            "rashtriya\n",
            "swayamsevak\n",
            "sangh\n",
            "rss\n",
            "right\n",
            "wing\n",
            "hindu\n",
            "nationalist\n",
            "paramilitari\n",
            "volunt\n",
            "organis\n",
            "longest\n",
            "serv\n",
            "prime\n",
            "minist\n",
            "outsid\n",
            "indian\n",
            "nation\n",
            "congress\n",
            "modi\n",
            "born\n",
            "rais\n",
            "vadnagar\n",
            "northeastern\n",
            "gujarat\n",
            "complet\n",
            "secondari\n",
            "educ\n",
            "introduc\n",
            "rss\n",
            "age\n",
            "eight\n",
            "account\n",
            "help\n",
            "father\n",
            "sell\n",
            "tea\n",
            "vadnagar\n",
            "railway\n",
            "station\n",
            "reliabl\n",
            "corrobor\n",
            "age\n",
            "marri\n",
            "jashodaben\n",
            "modi\n",
            "abandon\n",
            "soon\n",
            "publicli\n",
            "acknowledg\n",
            "four\n",
            "decad\n",
            "later\n",
            "legal\n",
            "requir\n",
            "modi\n",
            "becam\n",
            "full\n",
            "time\n",
            "worker\n",
            "rss\n",
            "gujarat\n",
            "rss\n",
            "assign\n",
            "bjp\n",
            "held\n",
            "sever\n",
            "posit\n",
            "within\n",
            "parti\n",
            "hierarchi\n",
            "rise\n",
            "rank\n",
            "gener\n",
            "secretari\n",
            "c\n"
          ]
        }
      ]
    },
    {
      "cell_type": "code",
      "source": [
        "# applying lemmatization on corpus\n",
        "for sentence in corpus:\n",
        "  words = nltk.word_tokenize(sentence)\n",
        "  for word in words:\n",
        "    if word not in set(stopwords.words('english')):\n",
        "      print(lemmatizer.lemmatize(word))"
      ],
      "metadata": {
        "colab": {
          "base_uri": "https://localhost:8080/"
        },
        "id": "RJ6RK-MAy1si",
        "outputId": "db34aa44-ecde-4565-a9c1-704acf6760a1"
      },
      "execution_count": null,
      "outputs": [
        {
          "output_type": "stream",
          "name": "stdout",
          "text": [
            "narendra\n",
            "damodardas\n",
            "modi\n",
            "gujarati\n",
            "n\n",
            "end\n",
            "mod\n",
            "modi\n",
            "born\n",
            "september\n",
            "b\n",
            "indian\n",
            "politician\n",
            "served\n",
            "th\n",
            "prime\n",
            "minister\n",
            "india\n",
            "since\n",
            "may\n",
            "modi\n",
            "chief\n",
            "minister\n",
            "gujarat\n",
            "member\n",
            "parliament\n",
            "mp\n",
            "varanasi\n",
            "member\n",
            "bharatiya\n",
            "janata\n",
            "party\n",
            "bjp\n",
            "rashtriya\n",
            "swayamsevak\n",
            "sangh\n",
            "r\n",
            "right\n",
            "wing\n",
            "hindu\n",
            "nationalist\n",
            "paramilitary\n",
            "volunteer\n",
            "organisation\n",
            "longest\n",
            "serving\n",
            "prime\n",
            "minister\n",
            "outside\n",
            "indian\n",
            "national\n",
            "congress\n",
            "modi\n",
            "born\n",
            "raised\n",
            "vadnagar\n",
            "northeastern\n",
            "gujarat\n",
            "completed\n",
            "secondary\n",
            "education\n",
            "introduced\n",
            "r\n",
            "age\n",
            "eight\n",
            "account\n",
            "helping\n",
            "father\n",
            "sell\n",
            "tea\n",
            "vadnagar\n",
            "railway\n",
            "station\n",
            "reliably\n",
            "corroborated\n",
            "age\n",
            "married\n",
            "jashodaben\n",
            "modi\n",
            "abandoned\n",
            "soon\n",
            "publicly\n",
            "acknowledging\n",
            "four\n",
            "decade\n",
            "later\n",
            "legally\n",
            "required\n",
            "modi\n",
            "became\n",
            "full\n",
            "time\n",
            "worker\n",
            "r\n",
            "gujarat\n",
            "r\n",
            "assigned\n",
            "bjp\n",
            "held\n",
            "several\n",
            "position\n",
            "within\n",
            "party\n",
            "hierarchy\n",
            "rising\n",
            "rank\n",
            "general\n",
            "secretary\n",
            "c\n"
          ]
        }
      ]
    },
    {
      "cell_type": "code",
      "source": [
        "# applying stopwords and lemmatize\n",
        "import re\n",
        "corpus = []\n",
        "for i in range(len(sentences)):\n",
        "  review = re.sub('[^a-zA-Z]',' ',sentences[i]).lower().split()\n",
        "  review = [lemmatizer.lemmatize(word) for word in review if not word in set(stopwords.words('english'))]\n",
        "  review = ' '.join(review)\n",
        "  corpus.append(review)"
      ],
      "metadata": {
        "id": "gF1ytZk0relz"
      },
      "execution_count": null,
      "outputs": []
    },
    {
      "cell_type": "code",
      "source": [
        "# Bag of words\n",
        "from sklearn.feature_extraction.text import CountVectorizer\n",
        "# creating instance of count vectorize class\n",
        "cv = CountVectorizer(binary=True,ngram_range=(2,3))"
      ],
      "metadata": {
        "id": "JLuekRX_2dWA"
      },
      "execution_count": null,
      "outputs": []
    },
    {
      "cell_type": "code",
      "source": [
        "X = cv.fit_transform(corpus)"
      ],
      "metadata": {
        "id": "DHFynBT4mFj3"
      },
      "execution_count": null,
      "outputs": []
    },
    {
      "cell_type": "code",
      "source": [
        "cv.vocabulary_"
      ],
      "metadata": {
        "colab": {
          "base_uri": "https://localhost:8080/"
        },
        "id": "Tc9-h2WGmJfM",
        "outputId": "924c2443-8bae-4256-ae7c-78f1c3fb246e"
      },
      "execution_count": null,
      "outputs": [
        {
          "output_type": "execute_result",
          "data": {
            "text/plain": [
              "{'narendra damodardas': 97,\n",
              " 'damodardas modi': 27,\n",
              " 'modi gujarati': 94,\n",
              " 'gujarati end': 44,\n",
              " 'end mod': 31,\n",
              " 'mod modi': 83,\n",
              " 'modi born': 89,\n",
              " 'born september': 21,\n",
              " 'september indian': 141,\n",
              " 'indian politician': 58,\n",
              " 'politician served': 114,\n",
              " 'served th': 143,\n",
              " 'th prime': 158,\n",
              " 'prime minister': 118,\n",
              " 'minister india': 79,\n",
              " 'india since': 54,\n",
              " 'since may': 149,\n",
              " 'narendra damodardas modi': 98,\n",
              " 'damodardas modi gujarati': 28,\n",
              " 'modi gujarati end': 95,\n",
              " 'gujarati end mod': 45,\n",
              " 'end mod modi': 32,\n",
              " 'mod modi born': 84,\n",
              " 'modi born september': 91,\n",
              " 'born september indian': 22,\n",
              " 'september indian politician': 142,\n",
              " 'indian politician served': 59,\n",
              " 'politician served th': 115,\n",
              " 'served th prime': 144,\n",
              " 'th prime minister': 159,\n",
              " 'prime minister india': 119,\n",
              " 'minister india since': 80,\n",
              " 'india since may': 55,\n",
              " 'modi chief': 92,\n",
              " 'chief minister': 23,\n",
              " 'minister gujarat': 77,\n",
              " 'gujarat member': 42,\n",
              " 'member parliament': 75,\n",
              " 'parliament mp': 108,\n",
              " 'mp varanasi': 96,\n",
              " 'modi chief minister': 93,\n",
              " 'chief minister gujarat': 24,\n",
              " 'minister gujarat member': 78,\n",
              " 'gujarat member parliament': 43,\n",
              " 'member parliament mp': 76,\n",
              " 'parliament mp varanasi': 109,\n",
              " 'member bharatiya': 73,\n",
              " 'bharatiya janata': 13,\n",
              " 'janata party': 62,\n",
              " 'party bjp': 110,\n",
              " 'bjp rashtriya': 17,\n",
              " 'rashtriya swayamsevak': 129,\n",
              " 'swayamsevak sangh': 154,\n",
              " 'sangh right': 136,\n",
              " 'right wing': 132,\n",
              " 'wing hindu': 167,\n",
              " 'hindu nationalist': 52,\n",
              " 'nationalist paramilitary': 100,\n",
              " 'paramilitary volunteer': 106,\n",
              " 'volunteer organisation': 166,\n",
              " 'member bharatiya janata': 74,\n",
              " 'bharatiya janata party': 14,\n",
              " 'janata party bjp': 63,\n",
              " 'party bjp rashtriya': 111,\n",
              " 'bjp rashtriya swayamsevak': 18,\n",
              " 'rashtriya swayamsevak sangh': 130,\n",
              " 'swayamsevak sangh right': 155,\n",
              " 'sangh right wing': 137,\n",
              " 'right wing hindu': 133,\n",
              " 'wing hindu nationalist': 168,\n",
              " 'hindu nationalist paramilitary': 53,\n",
              " 'nationalist paramilitary volunteer': 101,\n",
              " 'paramilitary volunteer organisation': 107,\n",
              " 'longest serving': 69,\n",
              " 'serving prime': 145,\n",
              " 'minister outside': 81,\n",
              " 'outside indian': 104,\n",
              " 'indian national': 56,\n",
              " 'national congress': 99,\n",
              " 'longest serving prime': 70,\n",
              " 'serving prime minister': 146,\n",
              " 'prime minister outside': 120,\n",
              " 'minister outside indian': 82,\n",
              " 'outside indian national': 105,\n",
              " 'indian national congress': 57,\n",
              " 'born raised': 19,\n",
              " 'raised vadnagar': 125,\n",
              " 'vadnagar northeastern': 162,\n",
              " 'northeastern gujarat': 102,\n",
              " 'gujarat completed': 40,\n",
              " 'completed secondary': 25,\n",
              " 'secondary education': 138,\n",
              " 'modi born raised': 90,\n",
              " 'born raised vadnagar': 20,\n",
              " 'raised vadnagar northeastern': 126,\n",
              " 'vadnagar northeastern gujarat': 163,\n",
              " 'northeastern gujarat completed': 103,\n",
              " 'gujarat completed secondary': 41,\n",
              " 'completed secondary education': 26,\n",
              " 'introduced age': 60,\n",
              " 'age eight': 6,\n",
              " 'introduced age eight': 61,\n",
              " 'account helping': 2,\n",
              " 'helping father': 48,\n",
              " 'father sell': 33,\n",
              " 'sell tea': 139,\n",
              " 'tea vadnagar': 156,\n",
              " 'vadnagar railway': 164,\n",
              " 'railway station': 123,\n",
              " 'station reliably': 152,\n",
              " 'reliably corroborated': 131,\n",
              " 'account helping father': 3,\n",
              " 'helping father sell': 49,\n",
              " 'father sell tea': 34,\n",
              " 'sell tea vadnagar': 140,\n",
              " 'tea vadnagar railway': 157,\n",
              " 'vadnagar railway station': 165,\n",
              " 'railway station reliably': 124,\n",
              " 'station reliably corroborated': 153,\n",
              " 'age married': 7,\n",
              " 'married jashodaben': 71,\n",
              " 'jashodaben modi': 64,\n",
              " 'modi abandoned': 85,\n",
              " 'abandoned soon': 0,\n",
              " 'soon publicly': 150,\n",
              " 'publicly acknowledging': 121,\n",
              " 'acknowledging four': 4,\n",
              " 'four decade': 35,\n",
              " 'decade later': 29,\n",
              " 'later legally': 66,\n",
              " 'legally required': 68,\n",
              " 'age married jashodaben': 8,\n",
              " 'married jashodaben modi': 72,\n",
              " 'jashodaben modi abandoned': 65,\n",
              " 'modi abandoned soon': 86,\n",
              " 'abandoned soon publicly': 1,\n",
              " 'soon publicly acknowledging': 151,\n",
              " 'publicly acknowledging four': 122,\n",
              " 'acknowledging four decade': 5,\n",
              " 'four decade later': 36,\n",
              " 'decade later legally': 30,\n",
              " 'later legally required': 67,\n",
              " 'modi became': 87,\n",
              " 'became full': 11,\n",
              " 'full time': 37,\n",
              " 'time worker': 160,\n",
              " 'worker gujarat': 171,\n",
              " 'modi became full': 88,\n",
              " 'became full time': 12,\n",
              " 'full time worker': 38,\n",
              " 'time worker gujarat': 161,\n",
              " 'assigned bjp': 9,\n",
              " 'bjp held': 15,\n",
              " 'held several': 46,\n",
              " 'several position': 147,\n",
              " 'position within': 116,\n",
              " 'within party': 169,\n",
              " 'party hierarchy': 112,\n",
              " 'hierarchy rising': 50,\n",
              " 'rising rank': 134,\n",
              " 'rank general': 127,\n",
              " 'general secretary': 39,\n",
              " 'assigned bjp held': 10,\n",
              " 'bjp held several': 16,\n",
              " 'held several position': 47,\n",
              " 'several position within': 148,\n",
              " 'position within party': 117,\n",
              " 'within party hierarchy': 170,\n",
              " 'party hierarchy rising': 113,\n",
              " 'hierarchy rising rank': 51,\n",
              " 'rising rank general': 135,\n",
              " 'rank general secretary': 128}"
            ]
          },
          "metadata": {},
          "execution_count": 27
        }
      ]
    },
    {
      "cell_type": "code",
      "source": [
        "X[0].toarray()"
      ],
      "metadata": {
        "colab": {
          "base_uri": "https://localhost:8080/"
        },
        "id": "V4YId7s5mWDm",
        "outputId": "d9e13f51-043a-4a29-9059-4f1c5c1643b2"
      },
      "execution_count": null,
      "outputs": [
        {
          "output_type": "execute_result",
          "data": {
            "text/plain": [
              "array([[0, 0, 0, 0, 0, 0, 0, 0, 1, 0, 0, 0, 0, 1, 0, 0, 0, 1, 0, 0, 0, 0,\n",
              "        0, 1, 0, 0, 0, 0, 1, 1, 0, 0, 0, 0, 0, 0, 0, 1, 0, 1, 1, 1, 0, 1,\n",
              "        0, 0, 0, 0, 0, 0, 0, 0, 1, 0, 1, 0, 0, 0, 0, 0, 0, 0, 0, 0, 0, 0,\n",
              "        0, 0, 1, 1, 0, 0, 1, 0, 0, 0, 0, 1, 0, 0, 0, 0, 0, 0, 0]])"
            ]
          },
          "metadata": {},
          "execution_count": 21
        }
      ]
    },
    {
      "cell_type": "markdown",
      "source": [
        "#### TF-IDF"
      ],
      "metadata": {
        "id": "hhLynI-WfeXh"
      }
    },
    {
      "cell_type": "code",
      "source": [
        "from sklearn.feature_extraction.text import TfidfVectorizer"
      ],
      "metadata": {
        "id": "Si1PeC1mel0K"
      },
      "execution_count": null,
      "outputs": []
    },
    {
      "cell_type": "code",
      "source": [
        "tfidf = TfidfVectorizer()"
      ],
      "metadata": {
        "id": "O28TCN7NfvKn"
      },
      "execution_count": null,
      "outputs": []
    },
    {
      "cell_type": "code",
      "source": [
        "X = cv.fit_transform(corpus)"
      ],
      "metadata": {
        "id": "h_5gQWGmf4SH"
      },
      "execution_count": null,
      "outputs": []
    },
    {
      "cell_type": "code",
      "source": [
        "corpus[0] # First sentence from text or para"
      ],
      "metadata": {
        "colab": {
          "base_uri": "https://localhost:8080/",
          "height": 53
        },
        "id": "CFIIm-DOf-Ll",
        "outputId": "038ae594-92b6-41db-b115-3a0f1c7c6246"
      },
      "execution_count": null,
      "outputs": [
        {
          "output_type": "execute_result",
          "data": {
            "text/plain": [
              "'narendra damodardas modi gujarati n end mod modi born september b indian politician served th prime minister india since may'"
            ],
            "application/vnd.google.colaboratory.intrinsic+json": {
              "type": "string"
            }
          },
          "metadata": {},
          "execution_count": 31
        }
      ]
    },
    {
      "cell_type": "code",
      "source": [
        "X[0].toarray()"
      ],
      "metadata": {
        "colab": {
          "base_uri": "https://localhost:8080/"
        },
        "id": "gePQEyr6gFhV",
        "outputId": "2ca80b20-5440-442a-9adf-440494972cbd"
      },
      "execution_count": null,
      "outputs": [
        {
          "output_type": "execute_result",
          "data": {
            "text/plain": [
              "array([[0, 0, 0, 0, 0, 0, 0, 0, 0, 0, 0, 0, 0, 0, 0, 0, 0, 0, 0, 0, 0, 1,\n",
              "        1, 0, 0, 0, 0, 1, 1, 0, 0, 1, 1, 0, 0, 0, 0, 0, 0, 0, 0, 0, 0, 0,\n",
              "        1, 1, 0, 0, 0, 0, 0, 0, 0, 0, 1, 1, 0, 0, 1, 1, 0, 0, 0, 0, 0, 0,\n",
              "        0, 0, 0, 0, 0, 0, 0, 0, 0, 0, 0, 0, 0, 1, 1, 0, 0, 1, 1, 0, 0, 0,\n",
              "        0, 1, 0, 1, 0, 0, 1, 1, 0, 1, 1, 0, 0, 0, 0, 0, 0, 0, 0, 0, 0, 0,\n",
              "        0, 0, 0, 0, 1, 1, 0, 0, 1, 1, 0, 0, 0, 0, 0, 0, 0, 0, 0, 0, 0, 0,\n",
              "        0, 0, 0, 0, 0, 0, 0, 0, 0, 1, 1, 1, 1, 0, 0, 0, 0, 1, 0, 0, 0, 0,\n",
              "        0, 0, 0, 0, 1, 1, 0, 0, 0, 0, 0, 0, 0, 0, 0, 0, 0, 0]])"
            ]
          },
          "metadata": {},
          "execution_count": 33
        }
      ]
    },
    {
      "cell_type": "code",
      "source": [],
      "metadata": {
        "id": "HkHeVBlYgHOd"
      },
      "execution_count": null,
      "outputs": []
    }
  ]
}